{
 "cells": [
  {
   "cell_type": "code",
   "execution_count": 12,
   "id": "70339a51-a343-452f-b8f6-75d1c8c4795a",
   "metadata": {},
   "outputs": [],
   "source": [
    "A=20 #divident"
   ]
  },
  {
   "cell_type": "code",
   "execution_count": 13,
   "id": "971e1c04-9fe5-4ae2-9255-f3fc4dbe442d",
   "metadata": {},
   "outputs": [],
   "source": [
    "B=2 #divisor"
   ]
  },
  {
   "cell_type": "code",
   "execution_count": 14,
   "id": "3d3822ad-774a-488c-b6f0-fc773c40e37e",
   "metadata": {},
   "outputs": [],
   "source": [
    "R=A//B"
   ]
  },
  {
   "cell_type": "code",
   "execution_count": 4,
   "id": "3be6bdf8-30b8-411d-97ca-918f7e19377e",
   "metadata": {},
   "outputs": [
    {
     "ename": "NameError",
     "evalue": "name 'A' is not defined",
     "output_type": "error",
     "traceback": [
      "\u001b[0;31m---------------------------------------------------------------------------\u001b[0m",
      "\u001b[0;31mNameError\u001b[0m                                 Traceback (most recent call last)",
      "Cell \u001b[0;32mIn[4], line 1\u001b[0m\n\u001b[0;32m----> 1\u001b[0m \u001b[38;5;28;01mwhile\u001b[39;00m \u001b[43mA\u001b[49m\u001b[38;5;241m%\u001b[39mB\u001b[38;5;241m==\u001b[39m\u001b[38;5;241m0\u001b[39m:\n\u001b[1;32m      2\u001b[0m     \u001b[38;5;28mprint\u001b[39m(R)\n",
      "\u001b[0;31mNameError\u001b[0m: name 'A' is not defined"
     ]
    }
   ],
   "source": [
    "while R>0:\n",
    "    print(R)"
   ]
  },
  {
   "cell_type": "code",
   "execution_count": null,
   "id": "7e742a0d-bc09-452d-ab0f-f9d09187890b",
   "metadata": {},
   "outputs": [],
   "source": []
  }
 ],
 "metadata": {
  "kernelspec": {
   "display_name": "Python 3 (ipykernel)",
   "language": "python",
   "name": "python3"
  },
  "language_info": {
   "codemirror_mode": {
    "name": "ipython",
    "version": 3
   },
   "file_extension": ".py",
   "mimetype": "text/x-python",
   "name": "python",
   "nbconvert_exporter": "python",
   "pygments_lexer": "ipython3",
   "version": "3.10.8"
  },
  "toc-autonumbering": true
 },
 "nbformat": 4,
 "nbformat_minor": 5
}
