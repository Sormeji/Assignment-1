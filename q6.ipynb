{
 "cells": [
  {
   "cell_type": "code",
   "execution_count": 1,
   "id": "dfa65b43-bc01-4029-8665-5153c78b11e4",
   "metadata": {},
   "outputs": [
    {
     "name": "stdout",
     "output_type": "stream",
     "text": [
      "5 is not divisible by 3.\n",
      "12 is divisible by 3.\n",
      "9 is divisible by 3.\n",
      "7 is not divisible by 3.\n",
      "18 is divisible by 3.\n",
      "21 is divisible by 3.\n",
      "15 is divisible by 3.\n",
      "4 is not divisible by 3.\n",
      "30 is divisible by 3.\n",
      "11 is not divisible by 3.\n",
      "6 is divisible by 3.\n",
      "22 is not divisible by 3.\n",
      "14 is not divisible by 3.\n",
      "27 is divisible by 3.\n",
      "3 is divisible by 3.\n",
      "19 is not divisible by 3.\n",
      "8 is not divisible by 3.\n",
      "16 is not divisible by 3.\n",
      "25 is not divisible by 3.\n",
      "36 is divisible by 3.\n",
      "10 is not divisible by 3.\n",
      "13 is not divisible by 3.\n",
      "20 is not divisible by 3.\n",
      "24 is divisible by 3.\n",
      "17 is not divisible by 3.\n"
     ]
    }
   ],
   "source": [
    "my_list = [5, 12, 9, 7, 18, 21, 15, 4, 30, 11, 6, 22, 14, 27, 3, 19, 8, 16, 25, 36, 10, 13, 20, 24, 17]\n",
    "\n",
    "# Using a for loop and if-else condition to check divisibility by 3\n",
    "for element in my_list:\n",
    "    if element % 3 == 0:\n",
    "        print(f\"{element} is divisible by 3.\")\n",
    "    else:\n",
    "        print(f\"{element} is not divisible by 3.\")\n"
   ]
  },
  {
   "cell_type": "code",
   "execution_count": null,
   "id": "96307631-55b6-483d-81b6-575b705f02f7",
   "metadata": {},
   "outputs": [],
   "source": []
  }
 ],
 "metadata": {
  "kernelspec": {
   "display_name": "Python 3 (ipykernel)",
   "language": "python",
   "name": "python3"
  },
  "language_info": {
   "codemirror_mode": {
    "name": "ipython",
    "version": 3
   },
   "file_extension": ".py",
   "mimetype": "text/x-python",
   "name": "python",
   "nbconvert_exporter": "python",
   "pygments_lexer": "ipython3",
   "version": "3.10.8"
  }
 },
 "nbformat": 4,
 "nbformat_minor": 5
}
