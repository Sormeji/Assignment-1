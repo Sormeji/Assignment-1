{
 "cells": [
  {
   "cell_type": "code",
   "execution_count": 1,
   "id": "939f586b-0a28-45fe-ad20-57d812cd839d",
   "metadata": {},
   "outputs": [],
   "source": [
    "x=\"ashis\""
   ]
  },
  {
   "cell_type": "code",
   "execution_count": 2,
   "id": "0f3b344a-e19b-48cf-a4cd-e68de900aac6",
   "metadata": {},
   "outputs": [
    {
     "data": {
      "text/plain": [
       "str"
      ]
     },
     "execution_count": 2,
     "metadata": {},
     "output_type": "execute_result"
    }
   ],
   "source": [
    "type(x)"
   ]
  },
  {
   "cell_type": "code",
   "execution_count": 3,
   "id": "77021e98-8ef2-493b-9f60-7bfd07cb7bdd",
   "metadata": {},
   "outputs": [],
   "source": [
    "l = [1,3,5,6,\"ashis\", 3+7j,True,34,56]"
   ]
  },
  {
   "cell_type": "code",
   "execution_count": 4,
   "id": "72490e5c-e0f4-4844-9c86-5bcfe69312fd",
   "metadata": {},
   "outputs": [
    {
     "data": {
      "text/plain": [
       "list"
      ]
     },
     "execution_count": 4,
     "metadata": {},
     "output_type": "execute_result"
    }
   ],
   "source": [
    "type(l)"
   ]
  },
  {
   "cell_type": "code",
   "execution_count": 5,
   "id": "32a0c754-d2d8-41e7-88fa-abf224ec0449",
   "metadata": {},
   "outputs": [],
   "source": [
    "y=4.5"
   ]
  },
  {
   "cell_type": "code",
   "execution_count": 6,
   "id": "f7824081-3c8a-46c2-ac84-56576dabe696",
   "metadata": {},
   "outputs": [
    {
     "data": {
      "text/plain": [
       "float"
      ]
     },
     "execution_count": 6,
     "metadata": {},
     "output_type": "execute_result"
    }
   ],
   "source": [
    "type(y)"
   ]
  },
  {
   "cell_type": "code",
   "execution_count": 7,
   "id": "44f4c83b-480b-4550-948f-6dcdafae4d2c",
   "metadata": {},
   "outputs": [],
   "source": [
    "t = ( 3, 2.14, \"ashis\", [2,6.12,True,\"not\"])"
   ]
  },
  {
   "cell_type": "code",
   "execution_count": 8,
   "id": "07b630ba-0f42-48f3-8dc2-94903b1d4026",
   "metadata": {},
   "outputs": [
    {
     "data": {
      "text/plain": [
       "tuple"
      ]
     },
     "execution_count": 8,
     "metadata": {},
     "output_type": "execute_result"
    }
   ],
   "source": [
    "type(t)"
   ]
  },
  {
   "cell_type": "code",
   "execution_count": null,
   "id": "27cbcf5a-5667-43af-9edd-57c7ea46952d",
   "metadata": {},
   "outputs": [],
   "source": []
  }
 ],
 "metadata": {
  "kernelspec": {
   "display_name": "Python 3 (ipykernel)",
   "language": "python",
   "name": "python3"
  },
  "language_info": {
   "codemirror_mode": {
    "name": "ipython",
    "version": 3
   },
   "file_extension": ".py",
   "mimetype": "text/x-python",
   "name": "python",
   "nbconvert_exporter": "python",
   "pygments_lexer": "ipython3",
   "version": "3.10.8"
  }
 },
 "nbformat": 4,
 "nbformat_minor": 5
}
