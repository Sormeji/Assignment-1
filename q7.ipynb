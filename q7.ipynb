{
 "cells": [
  {
   "cell_type": "code",
   "execution_count": 1,
   "id": "c653a950-9aec-43f6-8018-8431ed5a3f09",
   "metadata": {},
   "outputs": [],
   "source": [
    "#An object whose internal state can be changed is mutable. On the other hand, immutable doesn't allow any change in the object once it has been created\n",
    "mutable are list,dictionary and  Immutable are int,float,string,tuple"
   ]
  },
  {
   "cell_type": "code",
   "execution_count": 1,
   "id": "257608c8-acb2-4462-b7dc-043df3f2ac90",
   "metadata": {},
   "outputs": [],
   "source": [
    "#eg of mutable\n",
    "l1=[1,2,3]"
   ]
  },
  {
   "cell_type": "code",
   "execution_count": 3,
   "id": "06f8da63-9324-4ab8-994f-d33568f31405",
   "metadata": {},
   "outputs": [],
   "source": [
    "l1[2]=24"
   ]
  },
  {
   "cell_type": "code",
   "execution_count": 4,
   "id": "5e3ee1cf-77d7-4a13-a77a-597d7bdf19ec",
   "metadata": {},
   "outputs": [
    {
     "name": "stdout",
     "output_type": "stream",
     "text": [
      "[1, 2, 24]\n"
     ]
    }
   ],
   "source": [
    "print(l1)"
   ]
  },
  {
   "cell_type": "code",
   "execution_count": 5,
   "id": "d2435230-3849-4646-bc4f-e19e5e1f4cf9",
   "metadata": {},
   "outputs": [],
   "source": [
    "#eg of immutable\n",
    "T1=(4,7,9)"
   ]
  },
  {
   "cell_type": "code",
   "execution_count": 6,
   "id": "6139f9bf-e8ea-461c-95ff-162371263dca",
   "metadata": {},
   "outputs": [
    {
     "ename": "TypeError",
     "evalue": "'tuple' object does not support item assignment",
     "output_type": "error",
     "traceback": [
      "\u001b[0;31m---------------------------------------------------------------------------\u001b[0m",
      "\u001b[0;31mTypeError\u001b[0m                                 Traceback (most recent call last)",
      "Cell \u001b[0;32mIn[6], line 1\u001b[0m\n\u001b[0;32m----> 1\u001b[0m \u001b[43mT1\u001b[49m\u001b[43m[\u001b[49m\u001b[38;5;241;43m2\u001b[39;49m\u001b[43m]\u001b[49m\u001b[38;5;241m=\u001b[39m\u001b[38;5;241m10\u001b[39m\n",
      "\u001b[0;31mTypeError\u001b[0m: 'tuple' object does not support item assignment"
     ]
    }
   ],
   "source": [
    "T1[2]=10"
   ]
  },
  {
   "cell_type": "code",
   "execution_count": 1,
   "id": "87979658-7297-4b17-91fa-2a23d16f0193",
   "metadata": {},
   "outputs": [
    {
     "ename": "NameError",
     "evalue": "name 'T1' is not defined",
     "output_type": "error",
     "traceback": [
      "\u001b[0;31m---------------------------------------------------------------------------\u001b[0m",
      "\u001b[0;31mNameError\u001b[0m                                 Traceback (most recent call last)",
      "Cell \u001b[0;32mIn[1], line 1\u001b[0m\n\u001b[0;32m----> 1\u001b[0m \u001b[38;5;28mprint\u001b[39m(\u001b[43mT1\u001b[49m)\n",
      "\u001b[0;31mNameError\u001b[0m: name 'T1' is not defined"
     ]
    }
   ],
   "source": [
    "print(T1)"
   ]
  },
  {
   "cell_type": "code",
   "execution_count": 2,
   "id": "5b32c92f-b88a-44e2-aad6-615f4bc51f4e",
   "metadata": {},
   "outputs": [],
   "source": [
    "y=\"Sun\""
   ]
  },
  {
   "cell_type": "code",
   "execution_count": 3,
   "id": "a8d6a76c-ca13-436e-88e8-6851fe7e536a",
   "metadata": {},
   "outputs": [
    {
     "name": "stdout",
     "output_type": "stream",
     "text": [
      "Sun\n"
     ]
    }
   ],
   "source": [
    "print(y)"
   ]
  },
  {
   "cell_type": "code",
   "execution_count": null,
   "id": "f4d0fa18-2dec-419c-bd28-f918919adbf8",
   "metadata": {},
   "outputs": [],
   "source": []
  }
 ],
 "metadata": {
  "kernelspec": {
   "display_name": "Python 3 (ipykernel)",
   "language": "python",
   "name": "python3"
  },
  "language_info": {
   "codemirror_mode": {
    "name": "ipython",
    "version": 3
   },
   "file_extension": ".py",
   "mimetype": "text/x-python",
   "name": "python",
   "nbconvert_exporter": "python",
   "pygments_lexer": "ipython3",
   "version": "3.10.8"
  }
 },
 "nbformat": 4,
 "nbformat_minor": 5
}
