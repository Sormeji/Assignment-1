{
 "cells": [
  {
   "cell_type": "code",
   "execution_count": 1,
   "id": "3fd58f65-57d1-4f59-be79-ad41d02fb894",
   "metadata": {},
   "outputs": [],
   "source": [
    "#i"
   ]
  },
  {
   "cell_type": "code",
   "execution_count": 2,
   "id": "8e03af8d-968c-4b90-849b-ce373bbbd494",
   "metadata": {},
   "outputs": [
    {
     "data": {
      "text/plain": [
       "2.0"
      ]
     },
     "execution_count": 2,
     "metadata": {},
     "output_type": "execute_result"
    }
   ],
   "source": [
    "4/2"
   ]
  },
  {
   "cell_type": "code",
   "execution_count": 3,
   "id": "f263aae3-7e18-47cc-b921-f3331bf933c8",
   "metadata": {},
   "outputs": [],
   "source": [
    "#  / is used to float division"
   ]
  },
  {
   "cell_type": "code",
   "execution_count": 4,
   "id": "956e36f0-b35a-4be9-8c62-a920d7df8662",
   "metadata": {},
   "outputs": [
    {
     "data": {
      "text/plain": [
       "1"
      ]
     },
     "execution_count": 4,
     "metadata": {},
     "output_type": "execute_result"
    }
   ],
   "source": [
    "4%3"
   ]
  },
  {
   "cell_type": "code",
   "execution_count": 5,
   "id": "3a2ae21b-b6ee-4686-b963-d6a4519ff64a",
   "metadata": {},
   "outputs": [],
   "source": [
    "# % is used to find the mod"
   ]
  },
  {
   "cell_type": "code",
   "execution_count": 6,
   "id": "6711a03f-28eb-4f52-beda-44f3fc99a7f0",
   "metadata": {},
   "outputs": [
    {
     "data": {
      "text/plain": [
       "2"
      ]
     },
     "execution_count": 6,
     "metadata": {},
     "output_type": "execute_result"
    }
   ],
   "source": [
    "9//4"
   ]
  },
  {
   "cell_type": "code",
   "execution_count": 7,
   "id": "adca972a-99ec-479b-8e30-3a886707b097",
   "metadata": {},
   "outputs": [],
   "source": [
    "# // used in int division"
   ]
  },
  {
   "cell_type": "code",
   "execution_count": 8,
   "id": "f661fabb-5e48-442e-8b23-667adc5d2c1e",
   "metadata": {},
   "outputs": [
    {
     "data": {
      "text/plain": [
       "81"
      ]
     },
     "execution_count": 8,
     "metadata": {},
     "output_type": "execute_result"
    }
   ],
   "source": [
    "3**4"
   ]
  },
  {
   "cell_type": "code",
   "execution_count": null,
   "id": "490b5e22-3cfb-4fb6-9452-09e09ccc7ad1",
   "metadata": {},
   "outputs": [],
   "source": [
    "# ** is used aS AN EXPONENT "
   ]
  }
 ],
 "metadata": {
  "kernelspec": {
   "display_name": "Python 3 (ipykernel)",
   "language": "python",
   "name": "python3"
  },
  "language_info": {
   "codemirror_mode": {
    "name": "ipython",
    "version": 3
   },
   "file_extension": ".py",
   "mimetype": "text/x-python",
   "name": "python",
   "nbconvert_exporter": "python",
   "pygments_lexer": "ipython3",
   "version": "3.10.8"
  }
 },
 "nbformat": 4,
 "nbformat_minor": 5
}
